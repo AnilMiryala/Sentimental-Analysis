{
  "nbformat": 4,
  "nbformat_minor": 0,
  "metadata": {
    "colab": {
      "provenance": []
    },
    "kernelspec": {
      "name": "python3",
      "display_name": "Python 3"
    },
    "language_info": {
      "name": "python"
    }
  },
  "cells": [
    {
      "cell_type": "code",
      "execution_count": null,
      "metadata": {
        "id": "zXoXIdV6GOdl"
      },
      "outputs": [],
      "source": [
        "import pandas as pd"
      ]
    },
    {
      "cell_type": "code",
      "execution_count": null,
      "metadata": {
        "colab": {
          "base_uri": "https://localhost:8080/",
          "height": 424
        },
        "id": "kaGo-GpjGWAn",
        "outputId": "5551b3e7-a12a-4e66-d7b2-43c16f4cf10e"
      },
      "outputs": [
        {
          "output_type": "execute_result",
          "data": {
            "text/plain": [
              "                                                Review  Liked\n",
              "0                             Wow... Loved this place.      1\n",
              "1                                   Crust is not good.      0\n",
              "2            Not tasty and the texture was just nasty.      0\n",
              "3    Stopped by during the late May bank holiday of...      1\n",
              "4    The selection on the menu was great and so wer...      1\n",
              "..                                                 ...    ...\n",
              "995  I think food should have flavor and texture an...      0\n",
              "996                           Appetite instantly gone.      0\n",
              "997  Overall I was not impressed and would not go b...      0\n",
              "998  The whole experience was underwhelming, and I ...      0\n",
              "999  Then, as if I hadn't wasted enough of my life ...      0\n",
              "\n",
              "[1000 rows x 2 columns]"
            ],
            "text/html": [
              "\n",
              "  <div id=\"df-f2a35ffc-b788-45b8-ab5b-20bf31948ff1\">\n",
              "    <div class=\"colab-df-container\">\n",
              "      <div>\n",
              "<style scoped>\n",
              "    .dataframe tbody tr th:only-of-type {\n",
              "        vertical-align: middle;\n",
              "    }\n",
              "\n",
              "    .dataframe tbody tr th {\n",
              "        vertical-align: top;\n",
              "    }\n",
              "\n",
              "    .dataframe thead th {\n",
              "        text-align: right;\n",
              "    }\n",
              "</style>\n",
              "<table border=\"1\" class=\"dataframe\">\n",
              "  <thead>\n",
              "    <tr style=\"text-align: right;\">\n",
              "      <th></th>\n",
              "      <th>Review</th>\n",
              "      <th>Liked</th>\n",
              "    </tr>\n",
              "  </thead>\n",
              "  <tbody>\n",
              "    <tr>\n",
              "      <th>0</th>\n",
              "      <td>Wow... Loved this place.</td>\n",
              "      <td>1</td>\n",
              "    </tr>\n",
              "    <tr>\n",
              "      <th>1</th>\n",
              "      <td>Crust is not good.</td>\n",
              "      <td>0</td>\n",
              "    </tr>\n",
              "    <tr>\n",
              "      <th>2</th>\n",
              "      <td>Not tasty and the texture was just nasty.</td>\n",
              "      <td>0</td>\n",
              "    </tr>\n",
              "    <tr>\n",
              "      <th>3</th>\n",
              "      <td>Stopped by during the late May bank holiday of...</td>\n",
              "      <td>1</td>\n",
              "    </tr>\n",
              "    <tr>\n",
              "      <th>4</th>\n",
              "      <td>The selection on the menu was great and so wer...</td>\n",
              "      <td>1</td>\n",
              "    </tr>\n",
              "    <tr>\n",
              "      <th>...</th>\n",
              "      <td>...</td>\n",
              "      <td>...</td>\n",
              "    </tr>\n",
              "    <tr>\n",
              "      <th>995</th>\n",
              "      <td>I think food should have flavor and texture an...</td>\n",
              "      <td>0</td>\n",
              "    </tr>\n",
              "    <tr>\n",
              "      <th>996</th>\n",
              "      <td>Appetite instantly gone.</td>\n",
              "      <td>0</td>\n",
              "    </tr>\n",
              "    <tr>\n",
              "      <th>997</th>\n",
              "      <td>Overall I was not impressed and would not go b...</td>\n",
              "      <td>0</td>\n",
              "    </tr>\n",
              "    <tr>\n",
              "      <th>998</th>\n",
              "      <td>The whole experience was underwhelming, and I ...</td>\n",
              "      <td>0</td>\n",
              "    </tr>\n",
              "    <tr>\n",
              "      <th>999</th>\n",
              "      <td>Then, as if I hadn't wasted enough of my life ...</td>\n",
              "      <td>0</td>\n",
              "    </tr>\n",
              "  </tbody>\n",
              "</table>\n",
              "<p>1000 rows × 2 columns</p>\n",
              "</div>\n",
              "      <button class=\"colab-df-convert\" onclick=\"convertToInteractive('df-f2a35ffc-b788-45b8-ab5b-20bf31948ff1')\"\n",
              "              title=\"Convert this dataframe to an interactive table.\"\n",
              "              style=\"display:none;\">\n",
              "        \n",
              "  <svg xmlns=\"http://www.w3.org/2000/svg\" height=\"24px\"viewBox=\"0 0 24 24\"\n",
              "       width=\"24px\">\n",
              "    <path d=\"M0 0h24v24H0V0z\" fill=\"none\"/>\n",
              "    <path d=\"M18.56 5.44l.94 2.06.94-2.06 2.06-.94-2.06-.94-.94-2.06-.94 2.06-2.06.94zm-11 1L8.5 8.5l.94-2.06 2.06-.94-2.06-.94L8.5 2.5l-.94 2.06-2.06.94zm10 10l.94 2.06.94-2.06 2.06-.94-2.06-.94-.94-2.06-.94 2.06-2.06.94z\"/><path d=\"M17.41 7.96l-1.37-1.37c-.4-.4-.92-.59-1.43-.59-.52 0-1.04.2-1.43.59L10.3 9.45l-7.72 7.72c-.78.78-.78 2.05 0 2.83L4 21.41c.39.39.9.59 1.41.59.51 0 1.02-.2 1.41-.59l7.78-7.78 2.81-2.81c.8-.78.8-2.07 0-2.86zM5.41 20L4 18.59l7.72-7.72 1.47 1.35L5.41 20z\"/>\n",
              "  </svg>\n",
              "      </button>\n",
              "      \n",
              "  <style>\n",
              "    .colab-df-container {\n",
              "      display:flex;\n",
              "      flex-wrap:wrap;\n",
              "      gap: 12px;\n",
              "    }\n",
              "\n",
              "    .colab-df-convert {\n",
              "      background-color: #E8F0FE;\n",
              "      border: none;\n",
              "      border-radius: 50%;\n",
              "      cursor: pointer;\n",
              "      display: none;\n",
              "      fill: #1967D2;\n",
              "      height: 32px;\n",
              "      padding: 0 0 0 0;\n",
              "      width: 32px;\n",
              "    }\n",
              "\n",
              "    .colab-df-convert:hover {\n",
              "      background-color: #E2EBFA;\n",
              "      box-shadow: 0px 1px 2px rgba(60, 64, 67, 0.3), 0px 1px 3px 1px rgba(60, 64, 67, 0.15);\n",
              "      fill: #174EA6;\n",
              "    }\n",
              "\n",
              "    [theme=dark] .colab-df-convert {\n",
              "      background-color: #3B4455;\n",
              "      fill: #D2E3FC;\n",
              "    }\n",
              "\n",
              "    [theme=dark] .colab-df-convert:hover {\n",
              "      background-color: #434B5C;\n",
              "      box-shadow: 0px 1px 3px 1px rgba(0, 0, 0, 0.15);\n",
              "      filter: drop-shadow(0px 1px 2px rgba(0, 0, 0, 0.3));\n",
              "      fill: #FFFFFF;\n",
              "    }\n",
              "  </style>\n",
              "\n",
              "      <script>\n",
              "        const buttonEl =\n",
              "          document.querySelector('#df-f2a35ffc-b788-45b8-ab5b-20bf31948ff1 button.colab-df-convert');\n",
              "        buttonEl.style.display =\n",
              "          google.colab.kernel.accessAllowed ? 'block' : 'none';\n",
              "\n",
              "        async function convertToInteractive(key) {\n",
              "          const element = document.querySelector('#df-f2a35ffc-b788-45b8-ab5b-20bf31948ff1');\n",
              "          const dataTable =\n",
              "            await google.colab.kernel.invokeFunction('convertToInteractive',\n",
              "                                                     [key], {});\n",
              "          if (!dataTable) return;\n",
              "\n",
              "          const docLinkHtml = 'Like what you see? Visit the ' +\n",
              "            '<a target=\"_blank\" href=https://colab.research.google.com/notebooks/data_table.ipynb>data table notebook</a>'\n",
              "            + ' to learn more about interactive tables.';\n",
              "          element.innerHTML = '';\n",
              "          dataTable['output_type'] = 'display_data';\n",
              "          await google.colab.output.renderOutput(dataTable, element);\n",
              "          const docLink = document.createElement('div');\n",
              "          docLink.innerHTML = docLinkHtml;\n",
              "          element.appendChild(docLink);\n",
              "        }\n",
              "      </script>\n",
              "    </div>\n",
              "  </div>\n",
              "  "
            ]
          },
          "metadata": {},
          "execution_count": 2
        }
      ],
      "source": [
        "df1=pd.read_table(\"/content/Restaurant_Reviews.tsv\")\n",
        "df1"
      ]
    },
    {
      "cell_type": "code",
      "execution_count": null,
      "metadata": {
        "id": "EGsIFrkI5qzb"
      },
      "outputs": [],
      "source": [
        "df=df1.replace(to_replace=[1, 0],\n",
        "           value=[\"positive\",\"Negative\"])\n"
      ]
    },
    {
      "cell_type": "code",
      "execution_count": null,
      "metadata": {
        "colab": {
          "base_uri": "https://localhost:8080/",
          "height": 424
        },
        "id": "K462NtI17RtM",
        "outputId": "37b9f8de-d1bd-4a23-f589-dc97954c24b4"
      },
      "outputs": [
        {
          "output_type": "execute_result",
          "data": {
            "text/plain": [
              "                                                Review     Liked\n",
              "0                             Wow... Loved this place.  positive\n",
              "1                                   Crust is not good.  Negative\n",
              "2            Not tasty and the texture was just nasty.  Negative\n",
              "3    Stopped by during the late May bank holiday of...  positive\n",
              "4    The selection on the menu was great and so wer...  positive\n",
              "..                                                 ...       ...\n",
              "995  I think food should have flavor and texture an...  Negative\n",
              "996                           Appetite instantly gone.  Negative\n",
              "997  Overall I was not impressed and would not go b...  Negative\n",
              "998  The whole experience was underwhelming, and I ...  Negative\n",
              "999  Then, as if I hadn't wasted enough of my life ...  Negative\n",
              "\n",
              "[1000 rows x 2 columns]"
            ],
            "text/html": [
              "\n",
              "  <div id=\"df-f22e3f37-82fc-46e1-8cb9-d9e39ebdba99\">\n",
              "    <div class=\"colab-df-container\">\n",
              "      <div>\n",
              "<style scoped>\n",
              "    .dataframe tbody tr th:only-of-type {\n",
              "        vertical-align: middle;\n",
              "    }\n",
              "\n",
              "    .dataframe tbody tr th {\n",
              "        vertical-align: top;\n",
              "    }\n",
              "\n",
              "    .dataframe thead th {\n",
              "        text-align: right;\n",
              "    }\n",
              "</style>\n",
              "<table border=\"1\" class=\"dataframe\">\n",
              "  <thead>\n",
              "    <tr style=\"text-align: right;\">\n",
              "      <th></th>\n",
              "      <th>Review</th>\n",
              "      <th>Liked</th>\n",
              "    </tr>\n",
              "  </thead>\n",
              "  <tbody>\n",
              "    <tr>\n",
              "      <th>0</th>\n",
              "      <td>Wow... Loved this place.</td>\n",
              "      <td>positive</td>\n",
              "    </tr>\n",
              "    <tr>\n",
              "      <th>1</th>\n",
              "      <td>Crust is not good.</td>\n",
              "      <td>Negative</td>\n",
              "    </tr>\n",
              "    <tr>\n",
              "      <th>2</th>\n",
              "      <td>Not tasty and the texture was just nasty.</td>\n",
              "      <td>Negative</td>\n",
              "    </tr>\n",
              "    <tr>\n",
              "      <th>3</th>\n",
              "      <td>Stopped by during the late May bank holiday of...</td>\n",
              "      <td>positive</td>\n",
              "    </tr>\n",
              "    <tr>\n",
              "      <th>4</th>\n",
              "      <td>The selection on the menu was great and so wer...</td>\n",
              "      <td>positive</td>\n",
              "    </tr>\n",
              "    <tr>\n",
              "      <th>...</th>\n",
              "      <td>...</td>\n",
              "      <td>...</td>\n",
              "    </tr>\n",
              "    <tr>\n",
              "      <th>995</th>\n",
              "      <td>I think food should have flavor and texture an...</td>\n",
              "      <td>Negative</td>\n",
              "    </tr>\n",
              "    <tr>\n",
              "      <th>996</th>\n",
              "      <td>Appetite instantly gone.</td>\n",
              "      <td>Negative</td>\n",
              "    </tr>\n",
              "    <tr>\n",
              "      <th>997</th>\n",
              "      <td>Overall I was not impressed and would not go b...</td>\n",
              "      <td>Negative</td>\n",
              "    </tr>\n",
              "    <tr>\n",
              "      <th>998</th>\n",
              "      <td>The whole experience was underwhelming, and I ...</td>\n",
              "      <td>Negative</td>\n",
              "    </tr>\n",
              "    <tr>\n",
              "      <th>999</th>\n",
              "      <td>Then, as if I hadn't wasted enough of my life ...</td>\n",
              "      <td>Negative</td>\n",
              "    </tr>\n",
              "  </tbody>\n",
              "</table>\n",
              "<p>1000 rows × 2 columns</p>\n",
              "</div>\n",
              "      <button class=\"colab-df-convert\" onclick=\"convertToInteractive('df-f22e3f37-82fc-46e1-8cb9-d9e39ebdba99')\"\n",
              "              title=\"Convert this dataframe to an interactive table.\"\n",
              "              style=\"display:none;\">\n",
              "        \n",
              "  <svg xmlns=\"http://www.w3.org/2000/svg\" height=\"24px\"viewBox=\"0 0 24 24\"\n",
              "       width=\"24px\">\n",
              "    <path d=\"M0 0h24v24H0V0z\" fill=\"none\"/>\n",
              "    <path d=\"M18.56 5.44l.94 2.06.94-2.06 2.06-.94-2.06-.94-.94-2.06-.94 2.06-2.06.94zm-11 1L8.5 8.5l.94-2.06 2.06-.94-2.06-.94L8.5 2.5l-.94 2.06-2.06.94zm10 10l.94 2.06.94-2.06 2.06-.94-2.06-.94-.94-2.06-.94 2.06-2.06.94z\"/><path d=\"M17.41 7.96l-1.37-1.37c-.4-.4-.92-.59-1.43-.59-.52 0-1.04.2-1.43.59L10.3 9.45l-7.72 7.72c-.78.78-.78 2.05 0 2.83L4 21.41c.39.39.9.59 1.41.59.51 0 1.02-.2 1.41-.59l7.78-7.78 2.81-2.81c.8-.78.8-2.07 0-2.86zM5.41 20L4 18.59l7.72-7.72 1.47 1.35L5.41 20z\"/>\n",
              "  </svg>\n",
              "      </button>\n",
              "      \n",
              "  <style>\n",
              "    .colab-df-container {\n",
              "      display:flex;\n",
              "      flex-wrap:wrap;\n",
              "      gap: 12px;\n",
              "    }\n",
              "\n",
              "    .colab-df-convert {\n",
              "      background-color: #E8F0FE;\n",
              "      border: none;\n",
              "      border-radius: 50%;\n",
              "      cursor: pointer;\n",
              "      display: none;\n",
              "      fill: #1967D2;\n",
              "      height: 32px;\n",
              "      padding: 0 0 0 0;\n",
              "      width: 32px;\n",
              "    }\n",
              "\n",
              "    .colab-df-convert:hover {\n",
              "      background-color: #E2EBFA;\n",
              "      box-shadow: 0px 1px 2px rgba(60, 64, 67, 0.3), 0px 1px 3px 1px rgba(60, 64, 67, 0.15);\n",
              "      fill: #174EA6;\n",
              "    }\n",
              "\n",
              "    [theme=dark] .colab-df-convert {\n",
              "      background-color: #3B4455;\n",
              "      fill: #D2E3FC;\n",
              "    }\n",
              "\n",
              "    [theme=dark] .colab-df-convert:hover {\n",
              "      background-color: #434B5C;\n",
              "      box-shadow: 0px 1px 3px 1px rgba(0, 0, 0, 0.15);\n",
              "      filter: drop-shadow(0px 1px 2px rgba(0, 0, 0, 0.3));\n",
              "      fill: #FFFFFF;\n",
              "    }\n",
              "  </style>\n",
              "\n",
              "      <script>\n",
              "        const buttonEl =\n",
              "          document.querySelector('#df-f22e3f37-82fc-46e1-8cb9-d9e39ebdba99 button.colab-df-convert');\n",
              "        buttonEl.style.display =\n",
              "          google.colab.kernel.accessAllowed ? 'block' : 'none';\n",
              "\n",
              "        async function convertToInteractive(key) {\n",
              "          const element = document.querySelector('#df-f22e3f37-82fc-46e1-8cb9-d9e39ebdba99');\n",
              "          const dataTable =\n",
              "            await google.colab.kernel.invokeFunction('convertToInteractive',\n",
              "                                                     [key], {});\n",
              "          if (!dataTable) return;\n",
              "\n",
              "          const docLinkHtml = 'Like what you see? Visit the ' +\n",
              "            '<a target=\"_blank\" href=https://colab.research.google.com/notebooks/data_table.ipynb>data table notebook</a>'\n",
              "            + ' to learn more about interactive tables.';\n",
              "          element.innerHTML = '';\n",
              "          dataTable['output_type'] = 'display_data';\n",
              "          await google.colab.output.renderOutput(dataTable, element);\n",
              "          const docLink = document.createElement('div');\n",
              "          docLink.innerHTML = docLinkHtml;\n",
              "          element.appendChild(docLink);\n",
              "        }\n",
              "      </script>\n",
              "    </div>\n",
              "  </div>\n",
              "  "
            ]
          },
          "metadata": {},
          "execution_count": 4
        }
      ],
      "source": [
        "df"
      ]
    },
    {
      "cell_type": "code",
      "execution_count": null,
      "metadata": {
        "colab": {
          "base_uri": "https://localhost:8080/"
        },
        "id": "giwg2zBfGWC-",
        "outputId": "4e204b07-a470-48e3-ff0c-37a8a8eac2b8"
      },
      "outputs": [
        {
          "output_type": "execute_result",
          "data": {
            "text/plain": [
              "positive    500\n",
              "Negative    500\n",
              "Name: Liked, dtype: int64"
            ]
          },
          "metadata": {},
          "execution_count": 5
        }
      ],
      "source": [
        "df['Liked'].value_counts()"
      ]
    },
    {
      "cell_type": "code",
      "source": [
        "import matplotlib.pyplot as plt\n",
        "df['Liked'].value_counts().plot(kind='bar')\n",
        "plt.xticks(rotation=60)\n",
        "plt.show()\n"
      ],
      "metadata": {
        "id": "cxwxkkaDVCwY",
        "colab": {
          "base_uri": "https://localhost:8080/",
          "height": 299
        },
        "outputId": "ce0903ec-8383-4c1c-d453-93b234854bff"
      },
      "execution_count": null,
      "outputs": [
        {
          "output_type": "display_data",
          "data": {
            "text/plain": [
              "<Figure size 432x288 with 1 Axes>"
            ],
            "image/png": "[encoded data removed]"
          },
          "metadata": {
            "needs_background": "light"
          }
        }
      ]
    },
    {
      "cell_type": "code",
      "execution_count": null,
      "metadata": {
        "id": "b127VZghGWF2"
      },
      "outputs": [],
      "source": [
        "x=df['Review'].values\n",
        "y=df['Liked'].values"
      ]
    },
    {
      "cell_type": "code",
      "execution_count": null,
      "metadata": {
        "id": "_TCwyvswGWIG"
      },
      "outputs": [],
      "source": [
        "from sklearn.model_selection import train_test_split\n",
        "x_train,x_test,y_train,y_test=train_test_split(x,y,random_state=0)"
      ]
    },
    {
      "cell_type": "code",
      "execution_count": null,
      "metadata": {
        "id": "G7YaW-tbGWKx"
      },
      "outputs": [],
      "source": [
        "from sklearn.feature_extraction.text import CountVectorizer\n",
        "vect=CountVectorizer(stop_words='english')\n",
        "x_train_vect=vect.fit_transform(x_train)\n",
        "x_test_vect=vect.transform(x_test)"
      ]
    },
    {
      "cell_type": "code",
      "execution_count": null,
      "metadata": {
        "id": "t4CwSVdFGWNo"
      },
      "outputs": [],
      "source": [
        "from sklearn.svm import SVC\n",
        "model1=SVC()"
      ]
    },
    {
      "cell_type": "code",
      "execution_count": null,
      "metadata": {
        "colab": {
          "base_uri": "https://localhost:8080/"
        },
        "id": "424Y3NlXGWQW",
        "outputId": "ff2b3f06-bb90-49a9-980b-bb316f88ddc5"
      },
      "outputs": [
        {
          "output_type": "execute_result",
          "data": {
            "text/plain": [
              "SVC()"
            ]
          },
          "metadata": {},
          "execution_count": 11
        }
      ],
      "source": [
        "model1.fit(x_train_vect,y_train)"
      ]
    },
    {
      "cell_type": "code",
      "execution_count": null,
      "metadata": {
        "id": "pYO0ZpoqGWTv"
      },
      "outputs": [],
      "source": [
        "y_pred1=model1.predict(x_test_vect)"
      ]
    },
    {
      "cell_type": "code",
      "execution_count": null,
      "metadata": {
        "id": "YYsT3E2vIQX7",
        "colab": {
          "base_uri": "https://localhost:8080/"
        },
        "outputId": "986e083c-9320-4130-f39d-69ce01677422"
      },
      "outputs": [
        {
          "output_type": "execute_result",
          "data": {
            "text/plain": [
              "array(['Negative', 'Negative', 'Negative', 'Negative', 'Negative',\n",
              "       'Negative', 'positive', 'Negative', 'Negative', 'positive',\n",
              "       'positive', 'positive', 'positive', 'positive', 'positive',\n",
              "       'positive', 'Negative', 'Negative', 'Negative', 'positive',\n",
              "       'Negative', 'Negative', 'positive', 'Negative', 'Negative',\n",
              "       'positive', 'Negative', 'positive', 'positive', 'positive',\n",
              "       'Negative', 'Negative', 'Negative', 'Negative', 'positive',\n",
              "       'Negative', 'Negative', 'Negative', 'Negative', 'positive',\n",
              "       'positive', 'Negative', 'Negative', 'Negative', 'Negative',\n",
              "       'Negative', 'Negative', 'Negative', 'Negative', 'Negative',\n",
              "       'positive', 'Negative', 'positive', 'positive', 'Negative',\n",
              "       'Negative', 'Negative', 'Negative', 'Negative', 'Negative',\n",
              "       'Negative', 'Negative', 'Negative', 'Negative', 'Negative',\n",
              "       'Negative', 'Negative', 'Negative', 'positive', 'Negative',\n",
              "       'positive', 'positive', 'positive', 'positive', 'Negative',\n",
              "       'Negative', 'Negative', 'positive', 'Negative', 'Negative',\n",
              "       'positive', 'positive', 'positive', 'Negative', 'positive',\n",
              "       'positive', 'Negative', 'Negative', 'positive', 'Negative',\n",
              "       'Negative', 'Negative', 'Negative', 'Negative', 'Negative',\n",
              "       'Negative', 'Negative', 'Negative', 'positive', 'Negative',\n",
              "       'Negative', 'Negative', 'positive', 'positive', 'positive',\n",
              "       'Negative', 'positive', 'positive', 'Negative', 'Negative',\n",
              "       'Negative', 'Negative', 'Negative', 'positive', 'Negative',\n",
              "       'Negative', 'positive', 'Negative', 'positive', 'Negative',\n",
              "       'Negative', 'Negative', 'positive', 'Negative', 'Negative',\n",
              "       'Negative', 'Negative', 'positive', 'Negative', 'Negative',\n",
              "       'Negative', 'positive', 'Negative', 'Negative', 'positive',\n",
              "       'positive', 'positive', 'positive', 'positive', 'Negative',\n",
              "       'Negative', 'positive', 'Negative', 'Negative', 'Negative',\n",
              "       'Negative', 'Negative', 'Negative', 'Negative', 'Negative',\n",
              "       'Negative', 'Negative', 'positive', 'positive', 'Negative',\n",
              "       'Negative', 'positive', 'Negative', 'positive', 'positive',\n",
              "       'Negative', 'Negative', 'positive', 'Negative', 'Negative',\n",
              "       'Negative', 'Negative', 'Negative', 'Negative', 'Negative',\n",
              "       'Negative', 'positive', 'Negative', 'Negative', 'Negative',\n",
              "       'Negative', 'Negative', 'positive', 'Negative', 'Negative',\n",
              "       'positive', 'positive', 'Negative', 'Negative', 'Negative',\n",
              "       'Negative', 'Negative', 'positive', 'Negative', 'positive',\n",
              "       'positive', 'Negative', 'Negative', 'Negative', 'Negative',\n",
              "       'Negative', 'positive', 'positive', 'Negative', 'Negative',\n",
              "       'positive', 'positive', 'positive', 'Negative', 'Negative',\n",
              "       'Negative', 'positive', 'Negative', 'Negative', 'Negative',\n",
              "       'positive', 'Negative', 'Negative', 'positive', 'positive',\n",
              "       'Negative', 'positive', 'positive', 'Negative', 'positive',\n",
              "       'Negative', 'Negative', 'Negative', 'Negative', 'positive',\n",
              "       'positive', 'Negative', 'Negative', 'positive', 'Negative',\n",
              "       'Negative', 'Negative', 'positive', 'Negative', 'positive',\n",
              "       'positive', 'Negative', 'Negative', 'Negative', 'Negative',\n",
              "       'positive', 'positive', 'positive', 'positive', 'Negative',\n",
              "       'Negative', 'positive', 'positive', 'Negative', 'Negative'],\n",
              "      dtype=object)"
            ]
          },
          "metadata": {},
          "execution_count": 13
        }
      ],
      "source": [
        "y_pred1"
      ]
    },
    {
      "cell_type": "code",
      "execution_count": null,
      "metadata": {
        "colab": {
          "base_uri": "https://localhost:8080/"
        },
        "id": "cnevXSXZIUBV",
        "outputId": "0e0115d7-2430-4f58-9836-317e05ba9934"
      },
      "outputs": [
        {
          "output_type": "execute_result",
          "data": {
            "text/plain": [
              "array(['Negative', 'Negative', 'Negative', 'Negative', 'Negative',\n",
              "       'Negative', 'positive', 'Negative', 'Negative', 'positive',\n",
              "       'positive', 'positive', 'Negative', 'positive', 'positive',\n",
              "       'positive', 'Negative', 'Negative', 'Negative', 'positive',\n",
              "       'Negative', 'positive', 'positive', 'Negative', 'Negative',\n",
              "       'positive', 'positive', 'positive', 'positive', 'Negative',\n",
              "       'positive', 'positive', 'positive', 'positive', 'positive',\n",
              "       'Negative', 'Negative', 'Negative', 'Negative', 'positive',\n",
              "       'positive', 'Negative', 'positive', 'Negative', 'Negative',\n",
              "       'Negative', 'Negative', 'Negative', 'Negative', 'Negative',\n",
              "       'positive', 'positive', 'positive', 'positive', 'Negative',\n",
              "       'Negative', 'positive', 'positive', 'Negative', 'positive',\n",
              "       'Negative', 'Negative', 'Negative', 'Negative', 'positive',\n",
              "       'Negative', 'positive', 'positive', 'positive', 'Negative',\n",
              "       'positive', 'positive', 'positive', 'positive', 'Negative',\n",
              "       'Negative', 'positive', 'positive', 'Negative', 'positive',\n",
              "       'Negative', 'positive', 'positive', 'Negative', 'positive',\n",
              "       'positive', 'Negative', 'Negative', 'positive', 'Negative',\n",
              "       'Negative', 'positive', 'Negative', 'Negative', 'Negative',\n",
              "       'positive', 'Negative', 'positive', 'positive', 'Negative',\n",
              "       'positive', 'positive', 'positive', 'Negative', 'positive',\n",
              "       'Negative', 'positive', 'positive', 'Negative', 'positive',\n",
              "       'positive', 'positive', 'Negative', 'Negative', 'positive',\n",
              "       'Negative', 'positive', 'positive', 'positive', 'positive',\n",
              "       'positive', 'Negative', 'positive', 'Negative', 'Negative',\n",
              "       'Negative', 'positive', 'Negative', 'Negative', 'positive',\n",
              "       'Negative', 'positive', 'Negative', 'Negative', 'positive',\n",
              "       'positive', 'positive', 'positive', 'positive', 'Negative',\n",
              "       'positive', 'positive', 'positive', 'Negative', 'Negative',\n",
              "       'Negative', 'Negative', 'positive', 'positive', 'positive',\n",
              "       'positive', 'positive', 'positive', 'positive', 'Negative',\n",
              "       'Negative', 'positive', 'positive', 'positive', 'Negative',\n",
              "       'Negative', 'Negative', 'positive', 'positive', 'Negative',\n",
              "       'Negative', 'Negative', 'Negative', 'Negative', 'positive',\n",
              "       'Negative', 'positive', 'positive', 'Negative', 'Negative',\n",
              "       'positive', 'Negative', 'positive', 'Negative', 'positive',\n",
              "       'positive', 'Negative', 'Negative', 'Negative', 'Negative',\n",
              "       'positive', 'Negative', 'positive', 'Negative', 'positive',\n",
              "       'positive', 'Negative', 'Negative', 'Negative', 'positive',\n",
              "       'Negative', 'positive', 'positive', 'Negative', 'positive',\n",
              "       'positive', 'positive', 'positive', 'Negative', 'positive',\n",
              "       'Negative', 'positive', 'Negative', 'Negative', 'Negative',\n",
              "       'positive', 'Negative', 'Negative', 'positive', 'positive',\n",
              "       'Negative', 'positive', 'positive', 'positive', 'positive',\n",
              "       'Negative', 'positive', 'Negative', 'Negative', 'positive',\n",
              "       'positive', 'positive', 'Negative', 'Negative', 'positive',\n",
              "       'positive', 'positive', 'positive', 'Negative', 'positive',\n",
              "       'Negative', 'positive', 'positive', 'positive', 'Negative',\n",
              "       'positive', 'positive', 'positive', 'positive', 'Negative',\n",
              "       'positive', 'Negative', 'Negative', 'positive', 'Negative'],\n",
              "      dtype=object)"
            ]
          },
          "metadata": {},
          "execution_count": 14
        }
      ],
      "source": [
        "y_test"
      ]
    },
    {
      "cell_type": "code",
      "execution_count": null,
      "metadata": {
        "colab": {
          "base_uri": "https://localhost:8080/"
        },
        "id": "fOFQitPKIUEQ",
        "outputId": "e8bc2013-0b3d-455c-aaf8-e1d62ade8ee0"
      },
      "outputs": [
        {
          "output_type": "execute_result",
          "data": {
            "text/plain": [
              "0.72"
            ]
          },
          "metadata": {},
          "execution_count": 15
        }
      ],
      "source": [
        "from sklearn.metrics import accuracy_score\n",
        "accuracy_score(y_pred1,y_test)"
      ]
    },
    {
      "cell_type": "code",
      "execution_count": null,
      "metadata": {
        "id": "3YwYrVX8hSqt"
      },
      "outputs": [],
      "source": [
        "data=[\"Wow... Loved this place.\"]\n",
        "data=vect.transform(data)"
      ]
    },
    {
      "cell_type": "code",
      "execution_count": null,
      "metadata": {
        "colab": {
          "base_uri": "https://localhost:8080/"
        },
        "id": "UZjt3cp9hk_v",
        "outputId": "b5c08b8e-4d73-4766-dd29-7ef3de3e3213"
      },
      "outputs": [
        {
          "output_type": "execute_result",
          "data": {
            "text/plain": [
              "array(['positive'], dtype=object)"
            ]
          },
          "metadata": {},
          "execution_count": 17
        }
      ],
      "source": [
        "model1.predict(data)\n"
      ]
    },
    {
      "cell_type": "code",
      "execution_count": null,
      "metadata": {
        "id": "j5w4cY0VeJ-x",
        "colab": {
          "base_uri": "https://localhost:8080/"
        },
        "outputId": "dcb23e42-d37a-4ad3-a06f-d6665e186434"
      },
      "outputs": [
        {
          "output_type": "execute_result",
          "data": {
            "text/plain": [
              "array(['Negative', 'Negative', 'Negative', 'Negative', 'positive',\n",
              "       'positive', 'positive', 'Negative', 'Negative', 'positive',\n",
              "       'positive', 'positive', 'Negative', 'positive', 'positive',\n",
              "       'positive', 'Negative', 'Negative', 'Negative', 'positive',\n",
              "       'Negative', 'positive', 'positive', 'Negative', 'Negative',\n",
              "       'positive', 'positive', 'positive', 'positive', 'Negative',\n",
              "       'positive', 'Negative', 'Negative', 'Negative', 'Negative',\n",
              "       'Negative', 'Negative', 'positive', 'Negative', 'positive',\n",
              "       'positive', 'Negative', 'positive', 'Negative', 'Negative',\n",
              "       'positive', 'Negative', 'positive', 'Negative', 'Negative',\n",
              "       'positive', 'positive', 'positive', 'positive', 'Negative',\n",
              "       'Negative', 'Negative', 'positive', 'Negative', 'positive',\n",
              "       'positive', 'Negative', 'positive', 'positive', 'Negative',\n",
              "       'positive', 'positive', 'Negative', 'positive', 'Negative',\n",
              "       'positive', 'positive', 'positive', 'Negative', 'Negative',\n",
              "       'Negative', 'Negative', 'positive', 'Negative', 'positive',\n",
              "       'Negative', 'positive', 'positive', 'Negative', 'positive',\n",
              "       'positive', 'Negative', 'Negative', 'positive', 'Negative',\n",
              "       'Negative', 'positive', 'Negative', 'Negative', 'Negative',\n",
              "       'positive', 'positive', 'Negative', 'positive', 'positive',\n",
              "       'positive', 'positive', 'positive', 'Negative', 'positive',\n",
              "       'positive', 'positive', 'positive', 'Negative', 'Negative',\n",
              "       'Negative', 'positive', 'Negative', 'positive', 'positive',\n",
              "       'Negative', 'positive', 'positive', 'positive', 'positive',\n",
              "       'Negative', 'Negative', 'positive', 'Negative', 'Negative',\n",
              "       'Negative', 'positive', 'Negative', 'Negative', 'Negative',\n",
              "       'Negative', 'positive', 'Negative', 'Negative', 'positive',\n",
              "       'positive', 'positive', 'positive', 'positive', 'Negative',\n",
              "       'positive', 'positive', 'positive', 'Negative', 'Negative',\n",
              "       'Negative', 'Negative', 'Negative', 'Negative', 'positive',\n",
              "       'positive', 'positive', 'positive', 'positive', 'Negative',\n",
              "       'Negative', 'positive', 'Negative', 'positive', 'Negative',\n",
              "       'Negative', 'Negative', 'positive', 'positive', 'Negative',\n",
              "       'Negative', 'positive', 'Negative', 'Negative', 'Negative',\n",
              "       'Negative', 'Negative', 'positive', 'Negative', 'Negative',\n",
              "       'Negative', 'Negative', 'positive', 'Negative', 'Negative',\n",
              "       'positive', 'Negative', 'Negative', 'positive', 'positive',\n",
              "       'Negative', 'positive', 'positive', 'Negative', 'positive',\n",
              "       'positive', 'Negative', 'Negative', 'positive', 'positive',\n",
              "       'Negative', 'positive', 'positive', 'Negative', 'Negative',\n",
              "       'positive', 'positive', 'positive', 'Negative', 'positive',\n",
              "       'positive', 'positive', 'Negative', 'Negative', 'Negative',\n",
              "       'positive', 'positive', 'Negative', 'positive', 'positive',\n",
              "       'Negative', 'positive', 'positive', 'positive', 'positive',\n",
              "       'Negative', 'Negative', 'Negative', 'Negative', 'Negative',\n",
              "       'positive', 'Negative', 'Negative', 'Negative', 'Negative',\n",
              "       'Negative', 'positive', 'positive', 'Negative', 'positive',\n",
              "       'Negative', 'Negative', 'positive', 'Negative', 'Negative',\n",
              "       'positive', 'positive', 'positive', 'positive', 'Negative',\n",
              "       'positive', 'positive', 'Negative', 'Negative', 'Negative'],\n",
              "      dtype=object)"
            ]
          },
          "metadata": {},
          "execution_count": 18
        }
      ],
      "source": [
        "from sklearn.pipeline import make_pipeline\n",
        "model2=make_pipeline(CountVectorizer(),SVC())\n",
        "model2.fit(x_train,y_train)\n",
        "y_pred2=model2.predict(x_test)\n",
        "y_pred2"
      ]
    },
    {
      "cell_type": "code",
      "execution_count": null,
      "metadata": {
        "colab": {
          "base_uri": "https://localhost:8080/"
        },
        "id": "nlP6TjDqncpk",
        "outputId": "02a5e90b-409a-45ea-9b38-78f8c25c2f4d"
      },
      "outputs": [
        {
          "output_type": "execute_result",
          "data": {
            "text/plain": [
              "0.792"
            ]
          },
          "metadata": {},
          "execution_count": 19
        }
      ],
      "source": [
        "from sklearn.metrics import accuracy_score\n",
        "accuracy_score(y_pred2,y_test)"
      ]
    },
    {
      "cell_type": "code",
      "execution_count": null,
      "metadata": {
        "id": "Oa-xBLvOIfNR"
      },
      "outputs": [],
      "source": [
        "from sklearn.naive_bayes import MultinomialNB\n",
        "model3=MultinomialNB()"
      ]
    },
    {
      "cell_type": "code",
      "execution_count": null,
      "metadata": {
        "colab": {
          "base_uri": "https://localhost:8080/"
        },
        "id": "TRB2m3MIIfP8",
        "outputId": "4b85422c-4272-4b46-fd29-47b2662526ee"
      },
      "outputs": [
        {
          "output_type": "execute_result",
          "data": {
            "text/plain": [
              "MultinomialNB()"
            ]
          },
          "metadata": {},
          "execution_count": 21
        }
      ],
      "source": [
        "model3.fit(x_train_vect,y_train)"
      ]
    },
    {
      "cell_type": "code",
      "execution_count": null,
      "metadata": {
        "colab": {
          "base_uri": "https://localhost:8080/"
        },
        "id": "YpgSmeIpIfSh",
        "outputId": "8d15a7f5-b28b-4deb-bb27-4bdceb0deb96"
      },
      "outputs": [
        {
          "output_type": "execute_result",
          "data": {
            "text/plain": [
              "array(['positive', 'Negative', 'Negative', 'Negative', 'Negative',\n",
              "       'positive', 'positive', 'Negative', 'Negative', 'positive',\n",
              "       'positive', 'positive', 'positive', 'positive', 'positive',\n",
              "       'positive', 'Negative', 'positive', 'Negative', 'positive',\n",
              "       'Negative', 'positive', 'positive', 'positive', 'positive',\n",
              "       'positive', 'Negative', 'positive', 'positive', 'positive',\n",
              "       'positive', 'positive', 'positive', 'Negative', 'positive',\n",
              "       'Negative', 'Negative', 'Negative', 'positive', 'positive',\n",
              "       'positive', 'Negative', 'Negative', 'Negative', 'Negative',\n",
              "       'Negative', 'positive', 'Negative', 'Negative', 'Negative',\n",
              "       'positive', 'Negative', 'positive', 'positive', 'Negative',\n",
              "       'Negative', 'Negative', 'positive', 'Negative', 'positive',\n",
              "       'Negative', 'Negative', 'positive', 'positive', 'Negative',\n",
              "       'Negative', 'positive', 'Negative', 'positive', 'Negative',\n",
              "       'positive', 'positive', 'positive', 'positive', 'Negative',\n",
              "       'Negative', 'Negative', 'positive', 'Negative', 'positive',\n",
              "       'positive', 'positive', 'positive', 'Negative', 'positive',\n",
              "       'positive', 'positive', 'Negative', 'positive', 'positive',\n",
              "       'Negative', 'positive', 'Negative', 'Negative', 'Negative',\n",
              "       'Negative', 'positive', 'Negative', 'positive', 'positive',\n",
              "       'Negative', 'positive', 'positive', 'positive', 'Negative',\n",
              "       'positive', 'positive', 'positive', 'Negative', 'Negative',\n",
              "       'Negative', 'positive', 'Negative', 'positive', 'positive',\n",
              "       'Negative', 'positive', 'positive', 'positive', 'positive',\n",
              "       'positive', 'positive', 'positive', 'positive', 'Negative',\n",
              "       'Negative', 'Negative', 'positive', 'Negative', 'Negative',\n",
              "       'Negative', 'positive', 'Negative', 'Negative', 'positive',\n",
              "       'positive', 'positive', 'positive', 'positive', 'Negative',\n",
              "       'Negative', 'positive', 'positive', 'Negative', 'Negative',\n",
              "       'Negative', 'positive', 'positive', 'positive', 'Negative',\n",
              "       'positive', 'Negative', 'positive', 'positive', 'positive',\n",
              "       'Negative', 'positive', 'positive', 'positive', 'positive',\n",
              "       'Negative', 'Negative', 'positive', 'Negative', 'Negative',\n",
              "       'Negative', 'positive', 'Negative', 'Negative', 'Negative',\n",
              "       'Negative', 'positive', 'positive', 'Negative', 'Negative',\n",
              "       'positive', 'Negative', 'positive', 'Negative', 'positive',\n",
              "       'positive', 'Negative', 'Negative', 'Negative', 'Negative',\n",
              "       'Negative', 'Negative', 'positive', 'Negative', 'positive',\n",
              "       'positive', 'Negative', 'positive', 'Negative', 'Negative',\n",
              "       'Negative', 'positive', 'positive', 'Negative', 'positive',\n",
              "       'positive', 'positive', 'positive', 'Negative', 'positive',\n",
              "       'Negative', 'positive', 'Negative', 'Negative', 'positive',\n",
              "       'positive', 'Negative', 'Negative', 'positive', 'positive',\n",
              "       'Negative', 'positive', 'positive', 'positive', 'positive',\n",
              "       'Negative', 'Negative', 'positive', 'Negative', 'Negative',\n",
              "       'positive', 'Negative', 'Negative', 'positive', 'Negative',\n",
              "       'positive', 'positive', 'positive', 'positive', 'positive',\n",
              "       'Negative', 'Negative', 'positive', 'Negative', 'positive',\n",
              "       'positive', 'positive', 'positive', 'positive', 'Negative',\n",
              "       'positive', 'positive', 'positive', 'Negative', 'Negative'],\n",
              "      dtype='<U8')"
            ]
          },
          "metadata": {},
          "execution_count": 22
        }
      ],
      "source": [
        "y_pred3=model3.predict(x_test_vect)\n",
        "y_pred3"
      ]
    },
    {
      "cell_type": "code",
      "execution_count": null,
      "metadata": {
        "colab": {
          "base_uri": "https://localhost:8080/"
        },
        "id": "_FONtThpIfVg",
        "outputId": "ebd90e8c-92bc-4a8f-bafb-a9506ca9195b"
      },
      "outputs": [
        {
          "output_type": "execute_result",
          "data": {
            "text/plain": [
              "array(['Negative', 'Negative', 'Negative', 'Negative', 'Negative',\n",
              "       'Negative', 'positive', 'Negative', 'Negative', 'positive',\n",
              "       'positive', 'positive', 'Negative', 'positive', 'positive',\n",
              "       'positive', 'Negative', 'Negative', 'Negative', 'positive',\n",
              "       'Negative', 'positive', 'positive', 'Negative', 'Negative',\n",
              "       'positive', 'positive', 'positive', 'positive', 'Negative',\n",
              "       'positive', 'positive', 'positive', 'positive', 'positive',\n",
              "       'Negative', 'Negative', 'Negative', 'Negative', 'positive',\n",
              "       'positive', 'Negative', 'positive', 'Negative', 'Negative',\n",
              "       'Negative', 'Negative', 'Negative', 'Negative', 'Negative',\n",
              "       'positive', 'positive', 'positive', 'positive', 'Negative',\n",
              "       'Negative', 'positive', 'positive', 'Negative', 'positive',\n",
              "       'Negative', 'Negative', 'Negative', 'Negative', 'positive',\n",
              "       'Negative', 'positive', 'positive', 'positive', 'Negative',\n",
              "       'positive', 'positive', 'positive', 'positive', 'Negative',\n",
              "       'Negative', 'positive', 'positive', 'Negative', 'positive',\n",
              "       'Negative', 'positive', 'positive', 'Negative', 'positive',\n",
              "       'positive', 'Negative', 'Negative', 'positive', 'Negative',\n",
              "       'Negative', 'positive', 'Negative', 'Negative', 'Negative',\n",
              "       'positive', 'Negative', 'positive', 'positive', 'Negative',\n",
              "       'positive', 'positive', 'positive', 'Negative', 'positive',\n",
              "       'Negative', 'positive', 'positive', 'Negative', 'positive',\n",
              "       'positive', 'positive', 'Negative', 'Negative', 'positive',\n",
              "       'Negative', 'positive', 'positive', 'positive', 'positive',\n",
              "       'positive', 'Negative', 'positive', 'Negative', 'Negative',\n",
              "       'Negative', 'positive', 'Negative', 'Negative', 'positive',\n",
              "       'Negative', 'positive', 'Negative', 'Negative', 'positive',\n",
              "       'positive', 'positive', 'positive', 'positive', 'Negative',\n",
              "       'positive', 'positive', 'positive', 'Negative', 'Negative',\n",
              "       'Negative', 'Negative', 'positive', 'positive', 'positive',\n",
              "       'positive', 'positive', 'positive', 'positive', 'Negative',\n",
              "       'Negative', 'positive', 'positive', 'positive', 'Negative',\n",
              "       'Negative', 'Negative', 'positive', 'positive', 'Negative',\n",
              "       'Negative', 'Negative', 'Negative', 'Negative', 'positive',\n",
              "       'Negative', 'positive', 'positive', 'Negative', 'Negative',\n",
              "       'positive', 'Negative', 'positive', 'Negative', 'positive',\n",
              "       'positive', 'Negative', 'Negative', 'Negative', 'Negative',\n",
              "       'positive', 'Negative', 'positive', 'Negative', 'positive',\n",
              "       'positive', 'Negative', 'Negative', 'Negative', 'positive',\n",
              "       'Negative', 'positive', 'positive', 'Negative', 'positive',\n",
              "       'positive', 'positive', 'positive', 'Negative', 'positive',\n",
              "       'Negative', 'positive', 'Negative', 'Negative', 'Negative',\n",
              "       'positive', 'Negative', 'Negative', 'positive', 'positive',\n",
              "       'Negative', 'positive', 'positive', 'positive', 'positive',\n",
              "       'Negative', 'positive', 'Negative', 'Negative', 'positive',\n",
              "       'positive', 'positive', 'Negative', 'Negative', 'positive',\n",
              "       'positive', 'positive', 'positive', 'Negative', 'positive',\n",
              "       'Negative', 'positive', 'positive', 'positive', 'Negative',\n",
              "       'positive', 'positive', 'positive', 'positive', 'Negative',\n",
              "       'positive', 'Negative', 'Negative', 'positive', 'Negative'],\n",
              "      dtype=object)"
            ]
          },
          "metadata": {},
          "execution_count": 23
        }
      ],
      "source": [
        "y_test"
      ]
    },
    {
      "cell_type": "code",
      "execution_count": null,
      "metadata": {
        "colab": {
          "base_uri": "https://localhost:8080/"
        },
        "id": "U_qdaxVsIfYR",
        "outputId": "ff6fbdf1-0d9d-48e2-ab7d-5056ce712096"
      },
      "outputs": [
        {
          "output_type": "execute_result",
          "data": {
            "text/plain": [
              "0.744"
            ]
          },
          "metadata": {},
          "execution_count": 24
        }
      ],
      "source": [
        "from sklearn.metrics import accuracy_score\n",
        "accuracy_score(y_pred3,y_test)"
      ]
    },
    {
      "cell_type": "code",
      "execution_count": null,
      "metadata": {
        "id": "N1jVy-iJIUHy"
      },
      "outputs": [],
      "source": [
        "data=[\"Crust is not good.\"]\n",
        "data=vect.transform(data)"
      ]
    },
    {
      "cell_type": "code",
      "execution_count": null,
      "metadata": {
        "colab": {
          "base_uri": "https://localhost:8080/"
        },
        "id": "-Xz34uUEip6J",
        "outputId": "1481c438-68d2-4330-ccab-900f1a15026c"
      },
      "outputs": [
        {
          "output_type": "execute_result",
          "data": {
            "text/plain": [
              "array(['positive'], dtype='<U8')"
            ]
          },
          "metadata": {},
          "execution_count": 26
        }
      ],
      "source": [
        "model3.predict(data)"
      ]
    },
    {
      "cell_type": "code",
      "execution_count": null,
      "metadata": {
        "colab": {
          "base_uri": "https://localhost:8080/"
        },
        "id": "wRvn6AKSivaW",
        "outputId": "f35d7ad2-5be1-4ca6-ce5d-21444664024c"
      },
      "outputs": [
        {
          "output_type": "execute_result",
          "data": {
            "text/plain": [
              "array(['positive', 'Negative', 'Negative', 'Negative', 'Negative',\n",
              "       'Negative', 'positive', 'Negative', 'Negative', 'positive',\n",
              "       'positive', 'positive', 'Negative', 'positive', 'positive',\n",
              "       'positive', 'Negative', 'Negative', 'Negative', 'positive',\n",
              "       'Negative', 'Negative', 'positive', 'Negative', 'positive',\n",
              "       'positive', 'Negative', 'positive', 'positive', 'Negative',\n",
              "       'positive', 'positive', 'positive', 'Negative', 'positive',\n",
              "       'Negative', 'Negative', 'positive', 'Negative', 'positive',\n",
              "       'positive', 'positive', 'Negative', 'Negative', 'Negative',\n",
              "       'Negative', 'Negative', 'Negative', 'positive', 'positive',\n",
              "       'positive', 'positive', 'positive', 'positive', 'Negative',\n",
              "       'Negative', 'Negative', 'positive', 'Negative', 'positive',\n",
              "       'positive', 'Negative', 'positive', 'positive', 'Negative',\n",
              "       'positive', 'positive', 'Negative', 'positive', 'Negative',\n",
              "       'positive', 'positive', 'positive', 'Negative', 'Negative',\n",
              "       'Negative', 'Negative', 'positive', 'Negative', 'positive',\n",
              "       'Negative', 'positive', 'positive', 'Negative', 'positive',\n",
              "       'positive', 'positive', 'Negative', 'positive', 'Negative',\n",
              "       'Negative', 'positive', 'Negative', 'Negative', 'Negative',\n",
              "       'positive', 'positive', 'Negative', 'positive', 'Negative',\n",
              "       'Negative', 'positive', 'positive', 'positive', 'Negative',\n",
              "       'positive', 'positive', 'positive', 'Negative', 'Negative',\n",
              "       'Negative', 'positive', 'Negative', 'positive', 'positive',\n",
              "       'Negative', 'positive', 'positive', 'positive', 'positive',\n",
              "       'positive', 'Negative', 'positive', 'Negative', 'Negative',\n",
              "       'Negative', 'positive', 'Negative', 'Negative', 'Negative',\n",
              "       'Negative', 'positive', 'Negative', 'Negative', 'positive',\n",
              "       'positive', 'positive', 'positive', 'positive', 'Negative',\n",
              "       'Negative', 'positive', 'positive', 'Negative', 'Negative',\n",
              "       'Negative', 'Negative', 'Negative', 'positive', 'Negative',\n",
              "       'positive', 'Negative', 'positive', 'positive', 'positive',\n",
              "       'Negative', 'positive', 'positive', 'positive', 'positive',\n",
              "       'Negative', 'Negative', 'positive', 'positive', 'Negative',\n",
              "       'Negative', 'positive', 'Negative', 'Negative', 'Negative',\n",
              "       'Negative', 'positive', 'positive', 'Negative', 'Negative',\n",
              "       'positive', 'Negative', 'positive', 'Negative', 'Negative',\n",
              "       'positive', 'Negative', 'Negative', 'Negative', 'Negative',\n",
              "       'positive', 'Negative', 'positive', 'Negative', 'positive',\n",
              "       'positive', 'Negative', 'Negative', 'Negative', 'Negative',\n",
              "       'Negative', 'positive', 'positive', 'Negative', 'positive',\n",
              "       'positive', 'positive', 'positive', 'Negative', 'positive',\n",
              "       'positive', 'positive', 'Negative', 'Negative', 'positive',\n",
              "       'positive', 'Negative', 'Negative', 'Negative', 'positive',\n",
              "       'Negative', 'positive', 'positive', 'positive', 'positive',\n",
              "       'Negative', 'positive', 'Negative', 'Negative', 'Negative',\n",
              "       'positive', 'Negative', 'positive', 'Negative', 'Negative',\n",
              "       'Negative', 'positive', 'positive', 'positive', 'positive',\n",
              "       'Negative', 'Negative', 'positive', 'Negative', 'Negative',\n",
              "       'positive', 'positive', 'positive', 'positive', 'Negative',\n",
              "       'positive', 'positive', 'positive', 'Negative', 'Negative'],\n",
              "      dtype='<U8')"
            ]
          },
          "metadata": {},
          "execution_count": 27
        }
      ],
      "source": [
        "from sklearn.pipeline import make_pipeline\n",
        "model4=make_pipeline(CountVectorizer(),MultinomialNB())\n",
        "model4.fit(x_train,y_train)\n",
        "y_pred4=model4.predict(x_test)\n",
        "y_pred4"
      ]
    },
    {
      "cell_type": "code",
      "execution_count": null,
      "metadata": {
        "colab": {
          "base_uri": "https://localhost:8080/"
        },
        "id": "yVFtRry2nTeL",
        "outputId": "e4402a88-d4fa-4ead-9b5b-861e6a445615"
      },
      "outputs": [
        {
          "output_type": "execute_result",
          "data": {
            "text/plain": [
              "0.784"
            ]
          },
          "metadata": {},
          "execution_count": 28
        }
      ],
      "source": [
        "from sklearn.metrics import accuracy_score\n",
        "accuracy_score(y_pred4,y_test)"
      ]
    },
    {
      "cell_type": "code",
      "source": [
        "from sklearn.feature_extraction.text import TfidfVectorizer\n",
        "vect=TfidfVectorizer(stop_words=\"english\")\n",
        "x_train_vect = vect.fit_transform(x_train)\n",
        "x_test_vect = vect.transform(x_test)"
      ],
      "metadata": {
        "id": "vjDs0il1sR1i"
      },
      "execution_count": null,
      "outputs": []
    },
    {
      "cell_type": "code",
      "source": [
        "from sklearn.svm import SVC\n",
        "model5=SVC()"
      ],
      "metadata": {
        "id": "2XIKoE66sXOc"
      },
      "execution_count": null,
      "outputs": []
    },
    {
      "cell_type": "code",
      "source": [
        "model5.fit(x_train_vect,y_train)"
      ],
      "metadata": {
        "colab": {
          "base_uri": "https://localhost:8080/"
        },
        "id": "tcQ7GsETsmmS",
        "outputId": "9830ae8d-c1c7-4415-f861-a57cc462c19c"
      },
      "execution_count": null,
      "outputs": [
        {
          "output_type": "execute_result",
          "data": {
            "text/plain": [
              "SVC()"
            ]
          },
          "metadata": {},
          "execution_count": 31
        }
      ]
    },
    {
      "cell_type": "code",
      "source": [
        "y_pred5=model5.predict(x_test_vect)\n",
        "y_pred5"
      ],
      "metadata": {
        "colab": {
          "base_uri": "https://localhost:8080/"
        },
        "id": "DrUJ5ge7stRf",
        "outputId": "6a87b5de-9a82-4e47-ea16-effcb8ddc7c4"
      },
      "execution_count": null,
      "outputs": [
        {
          "output_type": "execute_result",
          "data": {
            "text/plain": [
              "array(['Negative', 'Negative', 'Negative', 'Negative', 'Negative',\n",
              "       'positive', 'positive', 'Negative', 'Negative', 'positive',\n",
              "       'positive', 'positive', 'positive', 'positive', 'positive',\n",
              "       'positive', 'Negative', 'positive', 'Negative', 'positive',\n",
              "       'Negative', 'Negative', 'positive', 'Negative', 'Negative',\n",
              "       'positive', 'Negative', 'positive', 'positive', 'positive',\n",
              "       'Negative', 'Negative', 'positive', 'Negative', 'positive',\n",
              "       'Negative', 'Negative', 'Negative', 'Negative', 'positive',\n",
              "       'positive', 'Negative', 'positive', 'Negative', 'Negative',\n",
              "       'Negative', 'positive', 'Negative', 'Negative', 'Negative',\n",
              "       'positive', 'Negative', 'positive', 'positive', 'Negative',\n",
              "       'Negative', 'Negative', 'Negative', 'Negative', 'positive',\n",
              "       'Negative', 'Negative', 'Negative', 'positive', 'Negative',\n",
              "       'Negative', 'Negative', 'Negative', 'positive', 'Negative',\n",
              "       'positive', 'positive', 'positive', 'positive', 'Negative',\n",
              "       'Negative', 'Negative', 'positive', 'Negative', 'positive',\n",
              "       'positive', 'positive', 'positive', 'Negative', 'positive',\n",
              "       'positive', 'positive', 'Negative', 'positive', 'positive',\n",
              "       'Negative', 'positive', 'Negative', 'Negative', 'Negative',\n",
              "       'Negative', 'positive', 'Negative', 'positive', 'positive',\n",
              "       'Negative', 'Negative', 'positive', 'positive', 'Negative',\n",
              "       'positive', 'positive', 'positive', 'Negative', 'Negative',\n",
              "       'Negative', 'Negative', 'Negative', 'positive', 'positive',\n",
              "       'Negative', 'positive', 'positive', 'positive', 'positive',\n",
              "       'Negative', 'positive', 'positive', 'Negative', 'Negative',\n",
              "       'Negative', 'Negative', 'positive', 'Negative', 'Negative',\n",
              "       'Negative', 'positive', 'Negative', 'Negative', 'positive',\n",
              "       'positive', 'positive', 'positive', 'positive', 'Negative',\n",
              "       'Negative', 'positive', 'Negative', 'Negative', 'Negative',\n",
              "       'Negative', 'Negative', 'positive', 'Negative', 'Negative',\n",
              "       'positive', 'Negative', 'positive', 'positive', 'Negative',\n",
              "       'Negative', 'positive', 'positive', 'positive', 'positive',\n",
              "       'Negative', 'Negative', 'positive', 'Negative', 'Negative',\n",
              "       'Negative', 'Negative', 'Negative', 'Negative', 'Negative',\n",
              "       'Negative', 'positive', 'Negative', 'Negative', 'Negative',\n",
              "       'positive', 'Negative', 'positive', 'Negative', 'Negative',\n",
              "       'positive', 'positive', 'Negative', 'Negative', 'Negative',\n",
              "       'Negative', 'Negative', 'positive', 'Negative', 'positive',\n",
              "       'positive', 'Negative', 'Negative', 'Negative', 'Negative',\n",
              "       'Negative', 'positive', 'positive', 'Negative', 'Negative',\n",
              "       'positive', 'positive', 'positive', 'Negative', 'positive',\n",
              "       'Negative', 'positive', 'positive', 'Negative', 'Negative',\n",
              "       'positive', 'Negative', 'Negative', 'positive', 'positive',\n",
              "       'Negative', 'positive', 'positive', 'Negative', 'positive',\n",
              "       'Negative', 'Negative', 'Negative', 'Negative', 'positive',\n",
              "       'positive', 'Negative', 'Negative', 'positive', 'Negative',\n",
              "       'positive', 'Negative', 'positive', 'Negative', 'positive',\n",
              "       'Negative', 'Negative', 'positive', 'Negative', 'Negative',\n",
              "       'positive', 'positive', 'positive', 'positive', 'Negative',\n",
              "       'positive', 'positive', 'positive', 'Negative', 'Negative'],\n",
              "      dtype=object)"
            ]
          },
          "metadata": {},
          "execution_count": 32
        }
      ]
    },
    {
      "cell_type": "code",
      "source": [
        "from sklearn.metrics import accuracy_score\n",
        "accuracy_score(y_test,y_pred5)"
      ],
      "metadata": {
        "colab": {
          "base_uri": "https://localhost:8080/"
        },
        "id": "J4rwLZvHs1eV",
        "outputId": "8d309e62-2689-44e7-f390-0af023d44a7e"
      },
      "execution_count": null,
      "outputs": [
        {
          "output_type": "execute_result",
          "data": {
            "text/plain": [
              "0.74"
            ]
          },
          "metadata": {},
          "execution_count": 33
        }
      ]
    },
    {
      "cell_type": "code",
      "source": [
        "from sklearn.pipeline import  make_pipeline\n",
        "model6=make_pipeline(TfidfVectorizer(),SVC())\n",
        "model6.fit(x_train,y_train)\n",
        "y_pred6=model6.predict(x_test)\n",
        "y_pred6"
      ],
      "metadata": {
        "colab": {
          "base_uri": "https://localhost:8080/"
        },
        "id": "gDeWQfE_uNZE",
        "outputId": "7ccbe1ec-638c-4729-9600-9f6f49f1b7c3"
      },
      "execution_count": null,
      "outputs": [
        {
          "output_type": "execute_result",
          "data": {
            "text/plain": [
              "array(['Negative', 'Negative', 'Negative', 'Negative', 'positive',\n",
              "       'Negative', 'positive', 'Negative', 'Negative', 'positive',\n",
              "       'positive', 'positive', 'Negative', 'positive', 'positive',\n",
              "       'positive', 'Negative', 'Negative', 'Negative', 'positive',\n",
              "       'Negative', 'positive', 'positive', 'Negative', 'positive',\n",
              "       'positive', 'Negative', 'positive', 'positive', 'Negative',\n",
              "       'positive', 'Negative', 'Negative', 'Negative', 'positive',\n",
              "       'Negative', 'Negative', 'Negative', 'Negative', 'positive',\n",
              "       'positive', 'Negative', 'positive', 'Negative', 'Negative',\n",
              "       'Negative', 'Negative', 'positive', 'positive', 'Negative',\n",
              "       'positive', 'positive', 'positive', 'positive', 'Negative',\n",
              "       'Negative', 'Negative', 'positive', 'Negative', 'positive',\n",
              "       'positive', 'Negative', 'positive', 'positive', 'positive',\n",
              "       'positive', 'positive', 'Negative', 'positive', 'Negative',\n",
              "       'positive', 'positive', 'positive', 'Negative', 'Negative',\n",
              "       'Negative', 'Negative', 'positive', 'Negative', 'positive',\n",
              "       'Negative', 'positive', 'positive', 'Negative', 'positive',\n",
              "       'positive', 'positive', 'Negative', 'positive', 'Negative',\n",
              "       'Negative', 'positive', 'Negative', 'Negative', 'Negative',\n",
              "       'Negative', 'positive', 'positive', 'positive', 'Negative',\n",
              "       'Negative', 'positive', 'positive', 'Negative', 'positive',\n",
              "       'positive', 'positive', 'positive', 'Negative', 'Negative',\n",
              "       'Negative', 'positive', 'Negative', 'positive', 'positive',\n",
              "       'Negative', 'positive', 'positive', 'positive', 'positive',\n",
              "       'positive', 'Negative', 'positive', 'Negative', 'Negative',\n",
              "       'Negative', 'positive', 'Negative', 'Negative', 'Negative',\n",
              "       'Negative', 'positive', 'Negative', 'Negative', 'positive',\n",
              "       'positive', 'positive', 'positive', 'positive', 'Negative',\n",
              "       'positive', 'positive', 'positive', 'Negative', 'Negative',\n",
              "       'Negative', 'Negative', 'Negative', 'Negative', 'Negative',\n",
              "       'positive', 'Negative', 'positive', 'positive', 'Negative',\n",
              "       'Negative', 'positive', 'Negative', 'positive', 'Negative',\n",
              "       'Negative', 'Negative', 'positive', 'positive', 'Negative',\n",
              "       'Negative', 'positive', 'Negative', 'Negative', 'Negative',\n",
              "       'Negative', 'positive', 'positive', 'Negative', 'Negative',\n",
              "       'Negative', 'Negative', 'positive', 'Negative', 'Negative',\n",
              "       'positive', 'positive', 'Negative', 'Negative', 'positive',\n",
              "       'Negative', 'Negative', 'positive', 'Negative', 'positive',\n",
              "       'positive', 'Negative', 'Negative', 'Negative', 'positive',\n",
              "       'Negative', 'positive', 'positive', 'Negative', 'positive',\n",
              "       'positive', 'positive', 'positive', 'Negative', 'positive',\n",
              "       'positive', 'positive', 'Negative', 'Negative', 'Negative',\n",
              "       'positive', 'Negative', 'Negative', 'positive', 'positive',\n",
              "       'Negative', 'positive', 'positive', 'positive', 'positive',\n",
              "       'Negative', 'Negative', 'Negative', 'Negative', 'positive',\n",
              "       'positive', 'Negative', 'Negative', 'Negative', 'Negative',\n",
              "       'positive', 'positive', 'positive', 'Negative', 'positive',\n",
              "       'Negative', 'Negative', 'positive', 'Negative', 'Negative',\n",
              "       'positive', 'positive', 'positive', 'positive', 'Negative',\n",
              "       'positive', 'positive', 'Negative', 'Negative', 'Negative'],\n",
              "      dtype=object)"
            ]
          },
          "metadata": {},
          "execution_count": 34
        }
      ]
    },
    {
      "cell_type": "code",
      "source": [
        "from sklearn.metrics import accuracy_score\n",
        "accuracy_score(y_test,y_pred6)"
      ],
      "metadata": {
        "colab": {
          "base_uri": "https://localhost:8080/"
        },
        "id": "43Zc7VIjuNs6",
        "outputId": "6ac93306-0476-49e5-de81-2534d5119c15"
      },
      "execution_count": null,
      "outputs": [
        {
          "output_type": "execute_result",
          "data": {
            "text/plain": [
              "0.82"
            ]
          },
          "metadata": {},
          "execution_count": 35
        }
      ]
    },
    {
      "cell_type": "code",
      "execution_count": null,
      "metadata": {
        "colab": {
          "base_uri": "https://localhost:8080/"
        },
        "id": "cyFUCZC3ivdx",
        "outputId": "2c0bc92c-c5d8-46e4-faad-2a7dc47ac9cb"
      },
      "outputs": [
        {
          "output_type": "execute_result",
          "data": {
            "text/plain": [
              "['Positive or Negative']"
            ]
          },
          "metadata": {},
          "execution_count": 36
        }
      ],
      "source": [
        "import joblib\n",
        "joblib.dump(model6,'Positive or Negative')\n",
        "\n"
      ]
    },
    {
      "cell_type": "code",
      "execution_count": null,
      "metadata": {
        "colab": {
          "base_uri": "https://localhost:8080/"
        },
        "id": "MDzz2CwOip9a",
        "outputId": "f69e29ce-31a1-489d-8176-152768bdd0e7"
      },
      "outputs": [
        {
          "output_type": "execute_result",
          "data": {
            "text/plain": [
              "Pipeline(steps=[('tfidfvectorizer', TfidfVectorizer()), ('svc', SVC())])"
            ]
          },
          "metadata": {},
          "execution_count": 37
        }
      ],
      "source": [
        "reloaded_model=joblib.load('Positive or Negative')\n",
        "reloaded_model"
      ]
    },
    {
      "cell_type": "code",
      "execution_count": null,
      "metadata": {
        "colab": {
          "base_uri": "https://localhost:8080/"
        },
        "id": "dyPjYkSimbp1",
        "outputId": "75046716-cb4c-4160-f2f3-10ffff785bc7"
      },
      "outputs": [
        {
          "output_type": "execute_result",
          "data": {
            "text/plain": [
              "array(['Negative'], dtype=object)"
            ]
          },
          "metadata": {},
          "execution_count": 38
        }
      ],
      "source": [
        "reloaded_model.predict([\"Crust is not good.\"])\n"
      ]
    },
    {
      "cell_type": "code",
      "execution_count": null,
      "metadata": {
        "id": "hevFovX1mbsa"
      },
      "outputs": [],
      "source": [
        "!pip install streamlit --quiet"
      ]
    },
    {
      "cell_type": "code",
      "execution_count": null,
      "metadata": {
        "colab": {
          "base_uri": "https://localhost:8080/"
        },
        "id": "TCrAqEz0rdmw",
        "outputId": "cdc32d84-3975-4c67-8b72-526b6d54f4ec"
      },
      "outputs": [
        {
          "output_type": "stream",
          "name": "stdout",
          "text": [
            "Overwriting app.py\n"
          ]
        }
      ],
      "source": [
        "%%writefile app.py\n",
        "import streamlit as st\n",
        "import joblib\n",
        "st.title(\"SENTIMENT ANALYSIS\")\n",
        "reloaded_model=joblib.load('Positive or Negative')\n",
        "input1=st.text_input(\"Enter the message: \")\n",
        "output1=reloaded_model.predict([input1])\n",
        "if st.button(\"PREDICT\"):\n",
        "   st.title(output1)"
      ]
    },
    {
      "cell_type": "code",
      "execution_count": null,
      "metadata": {
        "colab": {
          "base_uri": "https://localhost:8080/"
        },
        "id": "T-Yq_YhVpoPP",
        "outputId": "02bd2223-5f0f-4e67-8a13-a57c88fb6e58"
      },
      "outputs": [
        {
          "output_type": "stream",
          "name": "stdout",
          "text": [
            "2022-08-10 17:08:35.414 INFO    numexpr.utils: NumExpr defaulting to 2 threads.\n",
            "\u001b[K\u001b[?25hnpx: installed 22 in 4.564s\n",
            "your url is: https://young-experts-yell-35-245-78-83.loca.lt\n",
            "\u001b[0m\n",
            "\u001b[34m\u001b[1m  You can now view your Streamlit app in your browser.\u001b[0m\n",
            "\u001b[0m\n",
            "\u001b[34m  Network URL: \u001b[0m\u001b[1mhttp://172.28.0.2:8501\u001b[0m\n",
            "\u001b[34m  External URL: \u001b[0m\u001b[1mhttp://35.245.78.83:8501\u001b[0m\n",
            "\u001b[0m\n",
            "\u001b[34m  Stopping...\u001b[0m\n",
            "^C\n"
          ]
        }
      ],
      "source": [
        "!streamlit run app.py  & npx localtunnel --port 8501"
      ]
    },
    {
      "cell_type": "code",
      "execution_count": null,
      "metadata": {
        "id": "_3QuxZ1ipoSo"
      },
      "outputs": [],
      "source": [
        "#About sentiment analysis and twitter sentiments:\n",
        "\n",
        "#1. Sentiment analysis is a technique to analyze a piece of text to determine the sentiment behind it.\n",
        "#2. It combines machine learning and natural language processing (NLP) to achieve this.\n",
        "#3. Using basic Sentiment analysis, a program can understand whether the sentiment behind a piece of text is positive, negative, or neutral.\n",
        "#4. It is a powerful technique in Artificial intelligence.\n",
        "#5. In Modelling We can use Machine learning algorithms like Navie bayes(),SVC(),Logistic regression()."
      ]
    }
  ]
}